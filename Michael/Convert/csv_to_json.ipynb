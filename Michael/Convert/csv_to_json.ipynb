{
 "cells": [
  {
   "cell_type": "code",
   "execution_count": 1,
   "id": "04acf015",
   "metadata": {},
   "outputs": [],
   "source": [
    "import csv\n",
    "import json"
   ]
  },
  {
   "cell_type": "code",
   "execution_count": 3,
   "id": "ef95b743",
   "metadata": {},
   "outputs": [],
   "source": [
    "def csv_to_json(csvFilePath, jsonFilePath):\n",
    "    jsonArray = []\n",
    "      \n",
    "    #read csv file\n",
    "    with open(csvFilePath, encoding='utf-8') as csvf: \n",
    "        #load csv file data using csv library's dictionary reader\n",
    "        csvReader = csv.DictReader(csvf) \n",
    "\n",
    "        #convert each csv row into python dict\n",
    "        for row in csvReader: \n",
    "            #add this python dict to json array\n",
    "            jsonArray.append(row)\n",
    "  \n",
    "    #convert python jsonArray to JSON String and write to file\n",
    "    with open(jsonFilePath, 'w', encoding='utf-8') as jsonf: \n",
    "        jsonString = json.dumps(jsonArray, indent=4)\n",
    "        jsonf.write(jsonString)\n",
    "          "
   ]
  },
  {
   "cell_type": "code",
   "execution_count": 3,
   "id": "7b654699",
   "metadata": {},
   "outputs": [],
   "source": [
    "#Convert business_final file\n",
    "csvFilePath = \"../CSV_files/business_final.csv\"\n",
    "jsonFilePath = \"../JSON_files/business_final.json\"\n",
    "csv_to_json(csvFilePath, jsonFilePath)"
   ]
  },
  {
   "cell_type": "code",
   "execution_count": 4,
   "id": "7bab67f2",
   "metadata": {},
   "outputs": [],
   "source": [
    "#Convert review file\n",
    "csvFilePath = \"../CSV_files/review.csv\"\n",
    "jsonFilePath = \"../JSON_files/review.json\"\n",
    "csv_to_json(csvFilePath, jsonFilePath)"
   ]
  },
  {
   "cell_type": "code",
   "execution_count": 5,
   "id": "2d07da20",
   "metadata": {},
   "outputs": [],
   "source": [
    "#Convert tip file\n",
    "csvFilePath = \"../CSV_files/tip.csv\"\n",
    "jsonFilePath = \"../JSON_files/tip.json\"\n",
    "csv_to_json(csvFilePath, jsonFilePath)"
   ]
  },
  {
   "cell_type": "code",
   "execution_count": 6,
   "id": "e80f0611",
   "metadata": {},
   "outputs": [],
   "source": [
    "#Convert user_final file\n",
    "csvFilePath = \"../CSV_files/user_final.csv\"\n",
    "jsonFilePath = \"../JSON_files/user_final.json\"\n",
    "csv_to_json(csvFilePath, jsonFilePath)"
   ]
  },
  {
   "cell_type": "code",
   "execution_count": 5,
   "id": "dfd2e4db",
   "metadata": {},
   "outputs": [],
   "source": [
    "#Convert user_final file\n",
    "csvFilePath = \"../CSV_files/business_filtered.csv\"\n",
    "jsonFilePath = \"../JSON_files/business_filtered.json\"\n",
    "csv_to_json(csvFilePath, jsonFilePath)"
   ]
  },
  {
   "cell_type": "code",
   "execution_count": null,
   "id": "b73bd17f",
   "metadata": {},
   "outputs": [],
   "source": []
  }
 ],
 "metadata": {
  "kernelspec": {
   "display_name": "Python 3",
   "language": "python",
   "name": "python3"
  },
  "language_info": {
   "codemirror_mode": {
    "name": "ipython",
    "version": 3
   },
   "file_extension": ".py",
   "mimetype": "text/x-python",
   "name": "python",
   "nbconvert_exporter": "python",
   "pygments_lexer": "ipython3",
   "version": "3.8.8"
  }
 },
 "nbformat": 4,
 "nbformat_minor": 5
}
